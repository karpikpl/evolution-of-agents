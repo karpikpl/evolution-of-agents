{
 "cells": [
  {
   "cell_type": "markdown",
   "id": "60db279a",
   "metadata": {},
   "source": [
    "# Evolution of agents - RAG\n",
    "\n",
    "Retrieval-Augmented Generation (RAG) is an AI technique that combines information retrieval from external sources with generative models to produce more accurate and contextually relevant responses.\n",
    "\n",
    "<img src=\"./images/rag.png\" alt=\"RAG\" style=\"max-height: 300px;\" />\n"
   ]
  },
  {
   "cell_type": "code",
   "execution_count": null,
   "id": "f3b519ac",
   "metadata": {},
   "outputs": [],
   "source": [
    "# Example: Inference using Semantic Kernel\n",
    "import datetime\n",
    "from typing import List\n",
    "from semantic_kernel.connectors.ai.azure_ai_inference import (\n",
    "    AzureAIInferenceChatCompletion,\n",
    "    AzureAIInferenceChatPromptExecutionSettings,\n",
    ")\n",
    "from semantic_kernel.contents import ChatHistory\n",
    "from azure.ai.inference.aio import ChatCompletionsClient\n",
    "import os\n",
    "from setup import get_credentials\n",
    "import logging\n",
    "\n",
    "foundry_name = os.environ.get(\"AZURE_AI_FOUNDRY_NAME\", None)\n",
    "\n",
    "creds = get_credentials()\n",
    "\n",
    "client = ChatCompletionsClient(\n",
    "    endpoint=f\"https://{foundry_name}.services.ai.azure.com/models\",\n",
    "    credential=creds,\n",
    "    credential_scopes=[\"https://cognitiveservices.azure.com/.default\"],\n",
    ")\n",
    "\n",
    "request_settings = AzureAIInferenceChatPromptExecutionSettings()\n",
    "\n",
    "\n",
    "async def chat(\n",
    "    input: str,\n",
    "    system_message: str = \"You are a helpful assistant. You try to rhyme whenever you can.\",\n",
    "    model: str = \"gpt-35-turbo\",\n",
    "    other_messages: List[str] = [],\n",
    "):\n",
    "    chat_completion_service = AzureAIInferenceChatCompletion(\n",
    "        ai_model_id=model,\n",
    "        client=client,\n",
    "    )\n",
    "\n",
    "    chat_history = ChatHistory(system_message=system_message)\n",
    "    for message in other_messages:\n",
    "        chat_history.add_system_message(message)\n",
    "\n",
    "    chat_history.add_user_message(input)\n",
    "    logging.info(f\"User:> {input}\")\n",
    "\n",
    "    # Get the chat message content from the chat completion service.\n",
    "    response = await chat_completion_service.get_chat_message_content(\n",
    "        chat_history=chat_history,\n",
    "        settings=request_settings,\n",
    "    )\n",
    "    if response:\n",
    "        return f\"LLM:> {response}\""
   ]
  },
  {
   "cell_type": "code",
   "execution_count": null,
   "id": "83dba61f",
   "metadata": {},
   "outputs": [],
   "source": [
    "user_input = \"what date is today?\"\n",
    "await chat(user_input)"
   ]
  },
  {
   "cell_type": "markdown",
   "id": "252fbe76",
   "metadata": {},
   "source": []
  },
  {
   "cell_type": "code",
   "execution_count": null,
   "id": "ffa76ff6",
   "metadata": {},
   "outputs": [],
   "source": [
    "await chat(\n",
    "    user_input,\n",
    "    model=\"gpt-4.1\",\n",
    "    other_messages=[f\"Today is {datetime.datetime.now().strftime('%Y-%m-%d')}\"],\n",
    ")"
   ]
  },
  {
   "cell_type": "code",
   "execution_count": null,
   "id": "b3f17c5e",
   "metadata": {},
   "outputs": [],
   "source": [
    "# read BUGBUSTER.md from a file\n",
    "bugbuster_instructions = \"\"\n",
    "with open(\"docs/BUGBUSTER.md\", \"r\") as file:\n",
    "    bugbuster_instructions = file.read()\n",
    "\n",
    "user_input = \"what are the mixing instructions for BUGBUSTER™ ULTRA INSECT ELIMINATOR?\"\n",
    "system_message = \"\"\"\n",
    "You are a helpful assistant that provides accurate and concise information for user queries. \n",
    "Use emojis to make content more readable.\n",
    "\n",
    "Do not guess. \n",
    "If you don't have detailed information, reply with 'I'm sorry, I don't have that information.'\n",
    "\"\"\"\n",
    "await chat(\n",
    "    input=user_input,\n",
    "    system_message=system_message,\n",
    "    other_messages=[\n",
    "        bugbuster_instructions,\n",
    "        f\"Today is {datetime.datetime.now().strftime('%Y-%m-%d')}\",\n",
    "    ],\n",
    ")"
   ]
  }
 ],
 "metadata": {
  "kernelspec": {
   "display_name": "agents",
   "language": "python",
   "name": "python3"
  },
  "language_info": {
   "codemirror_mode": {
    "name": "ipython",
    "version": 3
   },
   "file_extension": ".py",
   "mimetype": "text/x-python",
   "name": "python",
   "nbconvert_exporter": "python",
   "pygments_lexer": "ipython3",
   "version": "3.11.10"
  }
 },
 "nbformat": 4,
 "nbformat_minor": 5
}
