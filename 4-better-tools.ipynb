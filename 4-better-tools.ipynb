{
 "cells": [
  {
   "cell_type": "markdown",
   "id": "60db279a",
   "metadata": {},
   "source": [
    "# Evolution of agents - Smarter Tools\n",
    "<img src=\"./images/student_tools.png\" alt=\"Student LLM with Tools\" style=\"max-height: 300px;\" />\n",
    "\n",
    "**Description:**\n",
    "This notebook explores more advanced agent tooling, including SQL-like queries and smarter plugins. It demonstrates how agents can leverage structured data access (e.g., DuckDB, pandas) and more complex toolchains to solve richer tasks. The focus is on building agents that can reason with external data and orchestrate multiple tools."
   ]
  },
  {
   "cell_type": "code",
   "execution_count": null,
   "id": "f3b519ac",
   "metadata": {},
   "outputs": [],
   "source": [
    "# Example: Inference using Semantic Kernel\n",
    "from setup import get_project_client, create_agent, test_agent\n",
    "from books_sql import BooksSql\n",
    "\n",
    "client = await get_project_client()\n",
    "\n",
    "agent = await create_agent(\n",
    "    agent_name=\"BookWormSql\",\n",
    "    agent_instructions=\"You are a helpful assistant for book-related queries. Always use the tools provided.\",\n",
    "    client=client,\n",
    "    plugins=[BooksSql()],\n",
    ")"
   ]
  },
  {
   "cell_type": "code",
   "execution_count": null,
   "id": "9c00465d",
   "metadata": {},
   "outputs": [],
   "source": [
    "user_input = \"What are the most 10 popular books by reviews?\"\n",
    "await test_agent(client, agent, user_input)"
   ]
  },
  {
   "cell_type": "code",
   "execution_count": null,
   "id": "3c82701a",
   "metadata": {},
   "outputs": [],
   "source": [
    "thread = await test_agent(\n",
    "    client,\n",
    "    agent,\n",
    "    \"what are the books about that child wizard? and what are their ratings?\",\n",
    ")"
   ]
  },
  {
   "cell_type": "code",
   "execution_count": null,
   "id": "71a55ca5",
   "metadata": {},
   "outputs": [],
   "source": [
    "thread = await test_agent(\n",
    "    client,\n",
    "    agent,\n",
    "    \"Yes, tell me about the most famous books about that child wizard.\",\n",
    "    thread,\n",
    ")"
   ]
  }
 ],
 "metadata": {
  "kernelspec": {
   "display_name": "agents",
   "language": "python",
   "name": "python3"
  },
  "language_info": {
   "codemirror_mode": {
    "name": "ipython",
    "version": 3
   },
   "file_extension": ".py",
   "mimetype": "text/x-python",
   "name": "python",
   "nbconvert_exporter": "python",
   "pygments_lexer": "ipython3",
   "version": "3.11.10"
  }
 },
 "nbformat": 4,
 "nbformat_minor": 5
}
