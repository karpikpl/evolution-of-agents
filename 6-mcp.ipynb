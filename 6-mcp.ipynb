{
 "cells": [
  {
   "cell_type": "markdown",
   "id": "60db279a",
   "metadata": {},
   "source": [
    "# Evolution of agents - MCP\n",
    "\n",
    "MCP (Model Context Protocol) is an open spec that standardizes how AI clients (agents, IDEs, chat apps) discover and call external tools and access resources. It uses a client–server model where servers expose capabilities (tools/functions, prompts, resources like files/DBs) over JSON-RPC transports (e.g., stdio, WebSocket). The goal is portability and safety: tools are reusable across different LLM runtimes with consistent schemas, auth, and streaming I/O, while remaining sandboxed. In practice, you run an MCP server for a service and any MCP-compatible client can list its capabilities and invoke them.\n",
    "\n",
    "<img src=\"./images/agent_actions.png\" alt=\"Agent with Actions\" style=\"max-height: 300px;\" />\n"
   ]
  },
  {
   "cell_type": "code",
   "execution_count": null,
   "id": "f3b519ac",
   "metadata": {},
   "outputs": [],
   "source": [
    "# Example: Inference using Semantic Kernel\n",
    "from semantic_kernel import Kernel\n",
    "from setup import get_project_client, create_agent, test_agent\n",
    "from semantic_kernel.connectors.mcp import MCPStdioPlugin\n",
    "\n",
    "client = await get_project_client()\n",
    "\n",
    "kernel = Kernel()\n",
    "\n",
    "async with MCPStdioPlugin(\n",
    "    name=\"Playwright\",\n",
    "    command=\"npx\",\n",
    "    args=[\"@playwright/mcp@latest\"],\n",
    "    description=\"MCP Stdio Plugin for Playwright\",\n",
    "    version=\"1.0.0\",\n",
    ") as playwright_mpc:\n",
    "    kernel.add_plugin(playwright_mpc, plugin_name=\"playwright\")\n",
    "\n",
    "    agent = await create_agent(\n",
    "        agent_name=\"CalculatorAgentWithMcp\",\n",
    "        agent_instructions=\"You are a helpful assistant. Use tools to solve user queries.\",\n",
    "        client=client,\n",
    "        kernel=kernel,\n",
    "        plugins=[playwright_mpc],\n",
    "    )\n",
    "\n",
    "    thread = None\n",
    "    user_input = \"go to https://reindeerromp5k.com/ and check dates, prices and details for the race\"\n",
    "    thread = await test_agent(client, agent, user_input, thread)"
   ]
  }
 ],
 "metadata": {
  "kernelspec": {
   "display_name": "agents",
   "language": "python",
   "name": "python3"
  },
  "language_info": {
   "codemirror_mode": {
    "name": "ipython",
    "version": 3
   },
   "file_extension": ".py",
   "mimetype": "text/x-python",
   "name": "python",
   "nbconvert_exporter": "python",
   "pygments_lexer": "ipython3",
   "version": "3.11.10"
  }
 },
 "nbformat": 4,
 "nbformat_minor": 5
}
