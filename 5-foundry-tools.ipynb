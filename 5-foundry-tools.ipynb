{
 "cells": [
  {
   "cell_type": "markdown",
   "id": "60db279a",
   "metadata": {},
   "source": [
    "# Evolution of agents - Foundry Tools\n",
    "<img src=\"./images/foundry_tools.png\" alt=\"Student LLM with Foundry Tools\" style=\"max-height: 300px;\" />\n"
   ]
  },
  {
   "cell_type": "code",
   "execution_count": null,
   "id": "f3b519ac",
   "metadata": {},
   "outputs": [],
   "source": [
    "# Example: Inference using Semantic Kernel\n",
    "import os\n",
    "from setup import get_project_client, create_agent, test_agent\n",
    "from azure.ai.agents.models import CodeInterpreterTool, FilePurpose\n",
    "\n",
    "client = await get_project_client()\n",
    "\n",
    "code_interpreter = CodeInterpreterTool()\n",
    "\n",
    "DEFAULT_CSV_PATH = os.environ.get(\"BOOKS_CSV_PATH\", \"docs/book1-100k.csv\")\n",
    "file = await client.agents.files.upload_and_poll(\n",
    "    file_path=DEFAULT_CSV_PATH,\n",
    "    purpose=FilePurpose.AGENTS,\n",
    ")\n",
    "code_interpreter.add_file(file.id)\n",
    "\n",
    "agent = await create_agent(\n",
    "    agent_name=\"BookWormCodeInterpreter\",\n",
    "    agent_instructions=\"You are a helpful assistant for book-related queries. Use code interpreter and uploaded file for analysis\",\n",
    "    client=client,\n",
    "    tools=[code_interpreter],\n",
    ")\n",
    "thread = None"
   ]
  },
  {
   "cell_type": "code",
   "execution_count": null,
   "id": "9c00465d",
   "metadata": {},
   "outputs": [],
   "source": [
    "user_input = \"What are the most 10 popular books by reviews?\"\n",
    "thread = await test_agent(client, agent, user_input, thread)"
   ]
  },
  {
   "cell_type": "code",
   "execution_count": null,
   "id": "3c82701a",
   "metadata": {},
   "outputs": [],
   "source": [
    "thread = await test_agent(\n",
    "    client,\n",
    "    agent,\n",
    "    \"what are the books about that child wizard? and what are their ratings?\",\n",
    "    thread=thread,\n",
    ")"
   ]
  },
  {
   "cell_type": "code",
   "execution_count": null,
   "id": "71a55ca5",
   "metadata": {},
   "outputs": [],
   "source": [
    "thread = await test_agent(\n",
    "    client,\n",
    "    agent,\n",
    "    \"Yes, tell me about the most famous books about that child wizard. I'm interested in all the stats.\",\n",
    "    thread,\n",
    ")"
   ]
  },
  {
   "cell_type": "code",
   "execution_count": null,
   "id": "1ddde084",
   "metadata": {},
   "outputs": [],
   "source": [
    "thread = await test_agent(\n",
    "    client,\n",
    "    agent,\n",
    "    \"Can you provide a bar chart for all the books in main the Harry Potter series and their popularity? Use emojis with each book title. Get creative.\",\n",
    "    thread=thread,\n",
    ")"
   ]
  }
 ],
 "metadata": {
  "kernelspec": {
   "display_name": "agents",
   "language": "python",
   "name": "python3"
  },
  "language_info": {
   "codemirror_mode": {
    "name": "ipython",
    "version": 3
   },
   "file_extension": ".py",
   "mimetype": "text/x-python",
   "name": "python",
   "nbconvert_exporter": "python",
   "pygments_lexer": "ipython3",
   "version": "3.11.10"
  }
 },
 "nbformat": 4,
 "nbformat_minor": 5
}
